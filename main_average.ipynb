{
 "cells": [
  {
   "cell_type": "code",
   "execution_count": 1,
   "metadata": {
    "collapsed": false
   },
   "outputs": [
    {
     "name": "stderr",
     "output_type": "stream",
     "text": [
      "/Users/nhat/anaconda/lib/python3.5/importlib/_bootstrap.py:222: RuntimeWarning: compiletime version 3.6 of module 'tensorflow.python.framework.fast_tensor_util' does not match runtime version 3.5\n",
      "  return f(*args, **kwds)\n",
      "/Users/nhat/anaconda/lib/python3.5/site-packages/h5py/__init__.py:34: FutureWarning: Conversion of the second argument of issubdtype from `float` to `np.floating` is deprecated. In future, it will be treated as `np.float64 == np.dtype(float).type`.\n",
      "  from ._conv import register_converters as _register_converters\n"
     ]
    }
   ],
   "source": [
    "import tensorflow as tf\n",
    "import numpy as np\n",
    "import pandas as pd\n",
    "import path, os, random, math\n",
    "from pathlib import Path\n",
    "\n",
    "from Source import accuracy, SimpleAveragingEnsembler\n",
    "\n",
    "from sklearn.preprocessing import LabelBinarizer\n"
   ]
  },
  {
   "cell_type": "code",
   "execution_count": 2,
   "metadata": {
    "collapsed": false
   },
   "outputs": [],
   "source": [
    "# Define paths:\n",
    "d = Path().resolve()\n",
    "data_path = str(d) + \"/Data\"\n",
    "weight_load_path1 = str(d) + \"/weights/deeper/1/model_deeper.ckpt\"\n",
    "weight_load_path2 = str(d) + \"/weights/deeper/2/model_deeper1.ckpt\"\n",
    "weight_load_path3 = str(d) + \"/weights/deeper/3/model_deeper1.ckpt\"\n",
    "\n",
    "\n",
    "# Prepare data:\n",
    "df_test = pd.read_csv(data_path + \"/emnist-letters-test.csv\")\n",
    "\n",
    "y_test = df_test.iloc[:, 0].values\n",
    "\n",
    "\n",
    "X_test = df_test.iloc[:, 1:].values\n",
    "X_test = X_test.reshape(-1, 28, 28, 1)\n",
    "\n",
    "# One-hot encode the y-values:\n",
    "lb = LabelBinarizer()\n",
    "y_test_enc = lb.fit_transform(y_test)\n"
   ]
  },
  {
   "cell_type": "code",
   "execution_count": 3,
   "metadata": {
    "collapsed": false
   },
   "outputs": [],
   "source": [
    "# Define hyperparameters:\n",
    "n_models = 3\n",
    "\n",
    "\n",
    "\n",
    "# Define models:\n",
    "weights_list = [weight_load_path1, weight_load_path2, weight_load_path3]\n",
    "\n",
    "ensembler = SimpleAveragingEnsembler(n_models, inp_w = 28, inp_h = 28, inp_d = 1, weights_list = weights_list)"
   ]
  },
  {
   "cell_type": "code",
   "execution_count": 4,
   "metadata": {
    "collapsed": false
   },
   "outputs": [
    {
     "name": "stdout",
     "output_type": "stream",
     "text": [
      "INFO:tensorflow:Restoring parameters from /Users/nhat/Documents/Projects/LetterClassifier/weights/deeper/1/model_deeper.ckpt\n",
      "Weight loaded successfully\n",
      "INFO:tensorflow:Restoring parameters from /Users/nhat/Documents/Projects/LetterClassifier/weights/deeper/2/model_deeper1.ckpt\n",
      "Weight loaded successfully\n",
      "INFO:tensorflow:Restoring parameters from /Users/nhat/Documents/Projects/LetterClassifier/weights/deeper/3/model_deeper1.ckpt\n",
      "Weight loaded successfully\n"
     ]
    }
   ],
   "source": [
    "# Test model:\n",
    "predictions = ensembler.predict(X_test)"
   ]
  },
  {
   "cell_type": "code",
   "execution_count": 5,
   "metadata": {
    "collapsed": false
   },
   "outputs": [
    {
     "name": "stdout",
     "output_type": "stream",
     "text": [
      "[ True  True  True ...  True  True  True]\n",
      "0.93073857\n"
     ]
    }
   ],
   "source": [
    "print(accuracy(predictions, y_test_enc))"
   ]
  },
  {
   "cell_type": "code",
   "execution_count": null,
   "metadata": {
    "collapsed": false
   },
   "outputs": [],
   "source": []
  },
  {
   "cell_type": "code",
   "execution_count": null,
   "metadata": {
    "collapsed": true
   },
   "outputs": [],
   "source": []
  }
 ],
 "metadata": {
  "anaconda-cloud": {},
  "kernelspec": {
   "display_name": "Python [conda root]",
   "language": "python",
   "name": "conda-root-py"
  },
  "language_info": {
   "codemirror_mode": {
    "name": "ipython",
    "version": 3
   },
   "file_extension": ".py",
   "mimetype": "text/x-python",
   "name": "python",
   "nbconvert_exporter": "python",
   "pygments_lexer": "ipython3",
   "version": "3.5.2"
  }
 },
 "nbformat": 4,
 "nbformat_minor": 1
}
